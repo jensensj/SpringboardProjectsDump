{
 "cells": [
  {
   "cell_type": "code",
   "execution_count": 2,
   "metadata": {},
   "outputs": [],
   "source": [
    "import pandas as pd\n",
    "import sqlite3"
   ]
  },
  {
   "cell_type": "code",
   "execution_count": 13,
   "metadata": {},
   "outputs": [],
   "source": [
    "facilities = sqlite3.connect('./sqlite_db_pythonsqlite.db')"
   ]
  },
  {
   "cell_type": "code",
   "execution_count": 50,
   "metadata": {},
   "outputs": [],
   "source": [
    "curf = facilities.cursor()"
   ]
  },
  {
   "cell_type": "code",
   "execution_count": 53,
   "metadata": {},
   "outputs": [
    {
     "data": {
      "text/plain": [
       "<sqlite3.Cursor at 0x123ce7ce0>"
      ]
     },
     "execution_count": 53,
     "metadata": {},
     "output_type": "execute_result"
    }
   ],
   "source": [
    "curf.execute(\"Select name, n.revenue FROM (SELECT facid, SUM(j.cost) AS revenue FROM ((SELECT name, a.facid, memid, CASE WHEN a.memid = 0 THEN guestcost ELSE membercost END AS cost FROM (SELECT facid, memid FROM Bookings) a\tLEFT JOIN Facilities f\tON f.facid = a.facid) j)\tGROUP BY name) as n INNER JOIN Facilities f ON f.facid = n.facid WHERE revenue > 1000 ORDER BY revenue\"\n",
    "            )"
   ]
  },
  {
   "cell_type": "code",
   "execution_count": 54,
   "metadata": {},
   "outputs": [
    {
     "name": "stdout",
     "output_type": "stream",
     "text": [
      "[('Tennis Court 1', 4040), ('Tennis Court 2', 4205), ('Squash Court', 4970.0), ('Massage Room 2', 6987.299999999997), ('Massage Room 1', 20807.900000000045)]\n"
     ]
    }
   ],
   "source": [
    "results = list(curf.fetchall())\n",
    "print(results)"
   ]
  },
  {
   "cell_type": "code",
   "execution_count": 62,
   "metadata": {},
   "outputs": [],
   "source": [
    "q = 'SELECT m1.firstname, m1.surname, m2.firstname, m2.surname FROM Members as m1 LEFT JOIN Members as m2 ON m1.recommendedby = m2.memid WHERE m1.recommendedby > 0 ORDER BY m1.surname, m1.firstname'"
   ]
  },
  {
   "cell_type": "code",
   "execution_count": 65,
   "metadata": {},
   "outputs": [
    {
     "data": {
      "text/plain": [
       "<sqlite3.Cursor at 0x123ce7ce0>"
      ]
     },
     "execution_count": 65,
     "metadata": {},
     "output_type": "execute_result"
    }
   ],
   "source": [
    "curf.execute(q)\n"
   ]
  },
  {
   "cell_type": "code",
   "execution_count": 66,
   "metadata": {},
   "outputs": [
    {
     "name": "stdout",
     "output_type": "stream",
     "text": [
      "[('Florence', 'Bader', 'Ponder', 'Stibbons'), ('Anne', 'Baker', 'Ponder', 'Stibbons'), ('Timothy', 'Baker', 'Jemima', 'Farrell'), ('Tim', 'Boothe', 'Tim', 'Rownam'), ('Gerald', 'Butters', 'Darren', 'Smith'), ('Joan', 'Coplin', 'Timothy', 'Baker'), ('Erica', 'Crumpet', 'Tracy', 'Smith'), ('Nancy', 'Dare', 'Janice', 'Joplette'), ('Matthew', 'Genting', 'Gerald', 'Butters'), ('John', 'Hunt', 'Millicent', 'Purview'), ('David', 'Jones', 'Janice', 'Joplette'), ('Douglas', 'Jones', 'David', 'Jones'), ('Janice', 'Joplette', 'Darren', 'Smith'), ('Anna', 'Mackenzie', 'Darren', 'Smith'), ('Charles', 'Owen', 'Darren', 'Smith'), ('David', 'Pinker', 'Jemima', 'Farrell'), ('Millicent', 'Purview', 'Tracy', 'Smith'), ('Henrietta', 'Rumney', 'Matthew', 'Genting'), ('Ramnaresh', 'Sarwin', 'Florence', 'Bader'), ('Jack', 'Smith', 'Darren', 'Smith'), ('Ponder', 'Stibbons', 'Burton', 'Tracy'), ('Henry', 'Worthington-Smyth', 'Tracy', 'Smith')]\n"
     ]
    }
   ],
   "source": [
    "results = list(curf.fetchall())\n",
    "print(results)"
   ]
  },
  {
   "cell_type": "code",
   "execution_count": 68,
   "metadata": {},
   "outputs": [],
   "source": [
    "q = \"SELECT name, COUNT(b.memid) AS membookings FROM Bookings b LEFT JOIN Facilities f ON b.facid = f.facid WHERE memid>0 GROUP BY name\""
   ]
  },
  {
   "cell_type": "code",
   "execution_count": 69,
   "metadata": {},
   "outputs": [
    {
     "data": {
      "text/plain": [
       "<sqlite3.Cursor at 0x123ce7ce0>"
      ]
     },
     "execution_count": 69,
     "metadata": {},
     "output_type": "execute_result"
    }
   ],
   "source": [
    "curf.execute(q)"
   ]
  },
  {
   "cell_type": "code",
   "execution_count": 70,
   "metadata": {},
   "outputs": [
    {
     "name": "stdout",
     "output_type": "stream",
     "text": [
      "[('Badminton Court', 344), ('Massage Room 1', 421), ('Massage Room 2', 27), ('Pool Table', 783), ('Snooker Table', 421), ('Squash Court', 195), ('Table Tennis', 385), ('Tennis Court 1', 308), ('Tennis Court 2', 276)]\n"
     ]
    }
   ],
   "source": [
    "results = list(curf.fetchall())\n",
    "print(results)"
   ]
  },
  {
   "cell_type": "code",
   "execution_count": 96,
   "metadata": {},
   "outputs": [],
   "source": [
    "q = \"SELECT name, STRFTIME('%m', starttime) as month, COUNT(b.memid) AS member_monthly_usage FROM Bookings b LEFT JOIN Facilities f ON b.facid = f.facid WHERE memid>0 GROUP BY STRFTIME('%m', starttime), name ORDER BY name, starttime\""
   ]
  },
  {
   "cell_type": "code",
   "execution_count": 97,
   "metadata": {},
   "outputs": [
    {
     "data": {
      "text/plain": [
       "<sqlite3.Cursor at 0x123ce7ce0>"
      ]
     },
     "execution_count": 97,
     "metadata": {},
     "output_type": "execute_result"
    }
   ],
   "source": [
    "curf.execute(q)"
   ]
  },
  {
   "cell_type": "code",
   "execution_count": 98,
   "metadata": {},
   "outputs": [
    {
     "name": "stdout",
     "output_type": "stream",
     "text": [
      "[('Badminton Court', '07', 51), ('Badminton Court', '08', 132), ('Badminton Court', '09', 161), ('Massage Room 1', '07', 77), ('Massage Room 1', '08', 153), ('Massage Room 1', '09', 191), ('Massage Room 2', '07', 4), ('Massage Room 2', '08', 9), ('Massage Room 2', '09', 14), ('Pool Table', '07', 103), ('Pool Table', '08', 272), ('Pool Table', '09', 408), ('Snooker Table', '07', 68), ('Snooker Table', '08', 154), ('Snooker Table', '09', 199), ('Squash Court', '07', 23), ('Squash Court', '08', 85), ('Squash Court', '09', 87), ('Table Tennis', '07', 48), ('Table Tennis', '08', 143), ('Table Tennis', '09', 194), ('Tennis Court 1', '07', 65), ('Tennis Court 1', '08', 111), ('Tennis Court 1', '09', 132), ('Tennis Court 2', '07', 41), ('Tennis Court 2', '08', 109), ('Tennis Court 2', '09', 126)]\n"
     ]
    }
   ],
   "source": [
    "results = list(curf.fetchall())\n",
    "print(results)"
   ]
  },
  {
   "cell_type": "code",
   "execution_count": null,
   "metadata": {},
   "outputs": [],
   "source": []
  },
  {
   "cell_type": "code",
   "execution_count": null,
   "metadata": {},
   "outputs": [],
   "source": []
  }
 ],
 "metadata": {
  "kernelspec": {
   "display_name": "Python 3",
   "language": "python",
   "name": "python3"
  },
  "language_info": {
   "codemirror_mode": {
    "name": "ipython",
    "version": 3
   },
   "file_extension": ".py",
   "mimetype": "text/x-python",
   "name": "python",
   "nbconvert_exporter": "python",
   "pygments_lexer": "ipython3",
   "version": "3.8.3"
  }
 },
 "nbformat": 4,
 "nbformat_minor": 4
}
